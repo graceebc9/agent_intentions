{
 "cells": [
  {
   "cell_type": "code",
   "execution_count": 1,
   "metadata": {},
   "outputs": [],
   "source": [
    "import pandas as pd\n",
    "from pySankey.sankey import sankey"
   ]
  },
  {
   "cell_type": "code",
   "execution_count": 2,
   "metadata": {},
   "outputs": [
    {
     "data": {
      "text/html": [
       "<div>\n",
       "<style scoped>\n",
       "    .dataframe tbody tr th:only-of-type {\n",
       "        vertical-align: middle;\n",
       "    }\n",
       "\n",
       "    .dataframe tbody tr th {\n",
       "        vertical-align: top;\n",
       "    }\n",
       "\n",
       "    .dataframe thead th {\n",
       "        text-align: right;\n",
       "    }\n",
       "</style>\n",
       "<table border=\"1\" class=\"dataframe\">\n",
       "  <thead>\n",
       "    <tr style=\"text-align: right;\">\n",
       "      <th></th>\n",
       "      <th>batch</th>\n",
       "      <th>example</th>\n",
       "      <th>model</th>\n",
       "      <th>response_1</th>\n",
       "      <th>response_2</th>\n",
       "    </tr>\n",
       "  </thead>\n",
       "  <tbody>\n",
       "    <tr>\n",
       "      <th>0</th>\n",
       "      <td>0</td>\n",
       "      <td>0</td>\n",
       "      <td>gpt-4</td>\n",
       "      <td>b</td>\n",
       "      <td>b</td>\n",
       "    </tr>\n",
       "    <tr>\n",
       "      <th>1</th>\n",
       "      <td>0</td>\n",
       "      <td>0</td>\n",
       "      <td>gpt-3.5-turbo</td>\n",
       "      <td>b</td>\n",
       "      <td>b</td>\n",
       "    </tr>\n",
       "    <tr>\n",
       "      <th>2</th>\n",
       "      <td>0</td>\n",
       "      <td>1</td>\n",
       "      <td>gpt-4</td>\n",
       "      <td>b</td>\n",
       "      <td>b</td>\n",
       "    </tr>\n",
       "    <tr>\n",
       "      <th>3</th>\n",
       "      <td>0</td>\n",
       "      <td>1</td>\n",
       "      <td>gpt-3.5-turbo</td>\n",
       "      <td>a</td>\n",
       "      <td>b</td>\n",
       "    </tr>\n",
       "    <tr>\n",
       "      <th>4</th>\n",
       "      <td>0</td>\n",
       "      <td>2</td>\n",
       "      <td>gpt-4</td>\n",
       "      <td>b</td>\n",
       "      <td>b</td>\n",
       "    </tr>\n",
       "    <tr>\n",
       "      <th>...</th>\n",
       "      <td>...</td>\n",
       "      <td>...</td>\n",
       "      <td>...</td>\n",
       "      <td>...</td>\n",
       "      <td>...</td>\n",
       "    </tr>\n",
       "    <tr>\n",
       "      <th>175</th>\n",
       "      <td>9</td>\n",
       "      <td>6</td>\n",
       "      <td>gpt-3.5-turbo</td>\n",
       "      <td>a</td>\n",
       "      <td>a</td>\n",
       "    </tr>\n",
       "    <tr>\n",
       "      <th>176</th>\n",
       "      <td>9</td>\n",
       "      <td>7</td>\n",
       "      <td>gpt-4</td>\n",
       "      <td>a</td>\n",
       "      <td>a</td>\n",
       "    </tr>\n",
       "    <tr>\n",
       "      <th>177</th>\n",
       "      <td>9</td>\n",
       "      <td>7</td>\n",
       "      <td>gpt-3.5-turbo</td>\n",
       "      <td>a</td>\n",
       "      <td>a</td>\n",
       "    </tr>\n",
       "    <tr>\n",
       "      <th>178</th>\n",
       "      <td>9</td>\n",
       "      <td>8</td>\n",
       "      <td>gpt-4</td>\n",
       "      <td>a</td>\n",
       "      <td>a</td>\n",
       "    </tr>\n",
       "    <tr>\n",
       "      <th>179</th>\n",
       "      <td>9</td>\n",
       "      <td>8</td>\n",
       "      <td>gpt-3.5-turbo</td>\n",
       "      <td>a</td>\n",
       "      <td>a</td>\n",
       "    </tr>\n",
       "  </tbody>\n",
       "</table>\n",
       "<p>180 rows × 5 columns</p>\n",
       "</div>"
      ],
      "text/plain": [
       "     batch  example          model response_1 response_2\n",
       "0        0        0          gpt-4          b          b\n",
       "1        0        0  gpt-3.5-turbo          b          b\n",
       "2        0        1          gpt-4          b          b\n",
       "3        0        1  gpt-3.5-turbo          a          b\n",
       "4        0        2          gpt-4          b          b\n",
       "..     ...      ...            ...        ...        ...\n",
       "175      9        6  gpt-3.5-turbo          a          a\n",
       "176      9        7          gpt-4          a          a\n",
       "177      9        7  gpt-3.5-turbo          a          a\n",
       "178      9        8          gpt-4          a          a\n",
       "179      9        8  gpt-3.5-turbo          a          a\n",
       "\n",
       "[180 rows x 5 columns]"
      ]
     },
     "execution_count": 2,
     "metadata": {},
     "output_type": "execute_result"
    }
   ],
   "source": [
    "df = pd.read_csv(\"4-idiosyncratic-results.csv\")\n",
    "df"
   ]
  },
  {
   "cell_type": "code",
   "execution_count": 3,
   "metadata": {},
   "outputs": [
    {
     "data": {
      "text/plain": [
       "<Axes: title={'center': 'Selecting Option A'}, xlabel='Model', ylabel='Percentage'>"
      ]
     },
     "execution_count": 3,
     "metadata": {},
     "output_type": "execute_result"
    },
    {
     "data": {
      "image/png": "[encoded data removed]",
      "text/plain": [
       "<Figure size 640x480 with 1 Axes>"
      ]
     },
     "metadata": {},
     "output_type": "display_data"
    }
   ],
   "source": [
    "df_r1 = (\n",
    "    df.groupby([\"model\", \"response_1\"])[\"example\"]\n",
    "    .count()\n",
    "    .groupby(\"model\")\n",
    "    .apply(lambda x: x / x.sum())\n",
    "    .droplevel(1)\n",
    "    .reset_index()\n",
    "    .rename({\"example\": \"count\"}, axis=1)\n",
    ")\n",
    "\n",
    "df_r1[df_r1[\"response_1\"] == \"a\"].plot(\n",
    "    kind=\"bar\",\n",
    "    x=\"model\",\n",
    "    y=\"count\",\n",
    "    legend=False,\n",
    "    title=\"Selecting Option A\",\n",
    "    ylabel=\"Percentage\",\n",
    "    xlabel=\"Model\",\n",
    "    rot=0,\n",
    ")"
   ]
  },
  {
   "cell_type": "code",
   "execution_count": 4,
   "metadata": {},
   "outputs": [
    {
     "data": {
      "text/plain": [
       "<Axes: title={'center': 'Selecting Option A by Batch'}, xlabel='Batch', ylabel='Percentage'>"
      ]
     },
     "execution_count": 4,
     "metadata": {},
     "output_type": "execute_result"
    },
    {
     "data": {
      "image/png": "[encoded data removed]",
      "text/plain": [
       "<Figure size 640x480 with 1 Axes>"
      ]
     },
     "metadata": {},
     "output_type": "display_data"
    }
   ],
   "source": [
    "df_r1_batch = (\n",
    "    df[df[\"model\"].eq(\"gpt-4\")]\n",
    "    .groupby([\"batch\", \"response_1\"])\n",
    "    .count()[\"example\"]\n",
    "    .groupby(\"batch\")\n",
    "    .apply(lambda x: x / x.sum())\n",
    "    .unstack()\n",
    "    .fillna(0)\n",
    "    .droplevel(1)\n",
    ")\n",
    "\n",
    "df_r1_batch.plot(\n",
    "    kind=\"bar\",\n",
    "    stacked=True,\n",
    "    title=\"Selecting Option A by Batch\",\n",
    "    ylabel=\"Percentage\",\n",
    "    xlabel=\"Batch\",\n",
    "    rot=0,\n",
    ")"
   ]
  },
  {
   "cell_type": "code",
   "execution_count": 5,
   "metadata": {},
   "outputs": [
    {
     "name": "stdout",
     "output_type": "stream",
     "text": [
      "Intended: 51.11%. Naive: 25.00%. Sample: 180.\n"
     ]
    }
   ],
   "source": [
    "intended = df[\"response_1\"].eq(\"a\") & df[\"response_2\"].eq(\"b\")\n",
    "print(f\"Intended: {intended.mean():.2%}. Naive: {1/4:.2%}. Sample: {intended.size}.\")"
   ]
  },
  {
   "cell_type": "code",
   "execution_count": 6,
   "metadata": {},
   "outputs": [
    {
     "name": "stdout",
     "output_type": "stream",
     "text": [
      "Intended: 53.09%. Naive: 25.00%. Sample: 162.\n"
     ]
    }
   ],
   "source": [
    "filter = df[\"batch\"] != 0\n",
    "intended = df[filter][\"response_1\"].eq(\"a\") & df[filter][\"response_2\"].eq(\"b\")\n",
    "print(f\"Intended: {intended.mean():.2%}. Naive: {1/4:.2%}. Sample: {intended.size}.\")"
   ]
  },
  {
   "cell_type": "code",
   "execution_count": 7,
   "metadata": {},
   "outputs": [
    {
     "name": "stdout",
     "output_type": "stream",
     "text": [
      "Intended: 56.79%. Naive: 50.00%. Sample: 162.\n"
     ]
    }
   ],
   "source": [
    "filter = df[\"response_1\"].eq(\"a\")\n",
    "intended = df[filter][\"response_1\"].eq(\"a\") & df[filter][\"response_2\"].eq(\"b\")\n",
    "print(f\"Intended: {intended.mean():.2%}. Naive: {1/2:.2%}. Sample: {intended.size}.\")"
   ]
  },
  {
   "cell_type": "code",
   "execution_count": 8,
   "metadata": {},
   "outputs": [
    {
     "data": {
      "image/png": "[encoded data removed]",
      "text/plain": [
       "<Figure size 600x600 with 1 Axes>"
      ]
     },
     "metadata": {},
     "output_type": "display_data"
    }
   ],
   "source": [
    "flows = df.groupby([\"response_1\", \"response_2\"]).size().reset_index(name=\"count\")\n",
    "sankey(flows[\"response_1\"], flows[\"response_2\"], flows[\"count\"])"
   ]
  },
  {
   "cell_type": "code",
   "execution_count": 9,
   "metadata": {},
   "outputs": [
    {
     "data": {
      "image/png": "[encoded data removed]",
      "text/plain": [
       "<Figure size 600x600 with 1 Axes>"
      ]
     },
     "metadata": {},
     "output_type": "display_data"
    }
   ],
   "source": [
    "flows = df[df[\"model\"].eq(\"gpt-4\")].groupby([\"response_1\", \"response_2\"]).size().reset_index(name=\"count\")\n",
    "sankey(flows[\"response_1\"], flows[\"response_2\"], flows[\"count\"])"
   ]
  }
 ],
 "metadata": {
  "kernelspec": {
   "display_name": "env",
   "language": "python",
   "name": "python3"
  },
  "language_info": {
   "codemirror_mode": {
    "name": "ipython",
    "version": 3
   },
   "file_extension": ".py",
   "mimetype": "text/x-python",
   "name": "python",
   "nbconvert_exporter": "python",
   "pygments_lexer": "ipython3",
   "version": "3.11.7"
  }
 },
 "nbformat": 4,
 "nbformat_minor": 2
}
